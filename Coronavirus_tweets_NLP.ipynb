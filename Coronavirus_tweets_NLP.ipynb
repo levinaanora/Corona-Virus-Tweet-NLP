{
  "nbformat": 4,
  "nbformat_minor": 0,
  "metadata": {
    "colab": {
      "name": "Coronavirus tweets NLP.ipynb",
      "provenance": [],
      "authorship_tag": "ABX9TyOZ942lXaxnJVUvr5XDv/vx",
      "include_colab_link": true
    },
    "kernelspec": {
      "name": "python3",
      "display_name": "Python 3"
    },
    "language_info": {
      "name": "python"
    }
  },
  "cells": [
    {
      "cell_type": "markdown",
      "metadata": {
        "id": "view-in-github",
        "colab_type": "text"
      },
      "source": [
        "<a href=\"https://colab.research.google.com/github/levinaanora/Corona-Virus-Tweet-NLP/blob/main/Coronavirus_tweets_NLP.ipynb\" target=\"_parent\"><img src=\"https://colab.research.google.com/assets/colab-badge.svg\" alt=\"Open In Colab\"/></a>"
      ]
    },
    {
      "cell_type": "code",
      "metadata": {
        "id": "yYyNORosMTnt"
      },
      "source": [
        "import pandas as pd\n",
        "import numpy as np\n",
        "import matplotlib.pyplot as plt\n",
        "import seaborn as sns\n",
        "import tensorflow as tf"
      ],
      "execution_count": 1,
      "outputs": []
    },
    {
      "cell_type": "code",
      "metadata": {
        "colab": {
          "base_uri": "https://localhost:8080/",
          "height": 289
        },
        "id": "SsvKcNhIOZ0F",
        "outputId": "5d55389a-a13c-4edb-c09d-37c5f12e2244"
      },
      "source": [
        "data = pd.read_csv(\"Corona_NLP_train.csv\", header = 0)\n",
        "data_test = pd.read_csv(\"Corona_NLP_test.csv\", header = 0)\n",
        "data.tail()"
      ],
      "execution_count": 2,
      "outputs": [
        {
          "output_type": "execute_result",
          "data": {
            "text/html": [
              "<div>\n",
              "<style scoped>\n",
              "    .dataframe tbody tr th:only-of-type {\n",
              "        vertical-align: middle;\n",
              "    }\n",
              "\n",
              "    .dataframe tbody tr th {\n",
              "        vertical-align: top;\n",
              "    }\n",
              "\n",
              "    .dataframe thead th {\n",
              "        text-align: right;\n",
              "    }\n",
              "</style>\n",
              "<table border=\"1\" class=\"dataframe\">\n",
              "  <thead>\n",
              "    <tr style=\"text-align: right;\">\n",
              "      <th></th>\n",
              "      <th>UserName</th>\n",
              "      <th>ScreenName</th>\n",
              "      <th>Location</th>\n",
              "      <th>TweetAt</th>\n",
              "      <th>OriginalTweet</th>\n",
              "      <th>Sentiment</th>\n",
              "    </tr>\n",
              "  </thead>\n",
              "  <tbody>\n",
              "    <tr>\n",
              "      <th>41152</th>\n",
              "      <td>44951</td>\n",
              "      <td>89903</td>\n",
              "      <td>Wellington City, New Zealand</td>\n",
              "      <td>14-04-2020</td>\n",
              "      <td>Airline pilots offering to stock supermarket s...</td>\n",
              "      <td>Neutral</td>\n",
              "    </tr>\n",
              "    <tr>\n",
              "      <th>41153</th>\n",
              "      <td>44952</td>\n",
              "      <td>89904</td>\n",
              "      <td>NaN</td>\n",
              "      <td>14-04-2020</td>\n",
              "      <td>Response to complaint not provided citing COVI...</td>\n",
              "      <td>Extremely Negative</td>\n",
              "    </tr>\n",
              "    <tr>\n",
              "      <th>41154</th>\n",
              "      <td>44953</td>\n",
              "      <td>89905</td>\n",
              "      <td>NaN</td>\n",
              "      <td>14-04-2020</td>\n",
              "      <td>You know itÂ’s getting tough when @KameronWild...</td>\n",
              "      <td>Positive</td>\n",
              "    </tr>\n",
              "    <tr>\n",
              "      <th>41155</th>\n",
              "      <td>44954</td>\n",
              "      <td>89906</td>\n",
              "      <td>NaN</td>\n",
              "      <td>14-04-2020</td>\n",
              "      <td>Is it wrong that the smell of hand sanitizer i...</td>\n",
              "      <td>Neutral</td>\n",
              "    </tr>\n",
              "    <tr>\n",
              "      <th>41156</th>\n",
              "      <td>44955</td>\n",
              "      <td>89907</td>\n",
              "      <td>i love you so much || he/him</td>\n",
              "      <td>14-04-2020</td>\n",
              "      <td>@TartiiCat Well new/used Rift S are going for ...</td>\n",
              "      <td>Negative</td>\n",
              "    </tr>\n",
              "  </tbody>\n",
              "</table>\n",
              "</div>"
            ],
            "text/plain": [
              "       UserName  ...           Sentiment\n",
              "41152     44951  ...             Neutral\n",
              "41153     44952  ...  Extremely Negative\n",
              "41154     44953  ...            Positive\n",
              "41155     44954  ...             Neutral\n",
              "41156     44955  ...            Negative\n",
              "\n",
              "[5 rows x 6 columns]"
            ]
          },
          "metadata": {},
          "execution_count": 2
        }
      ]
    },
    {
      "cell_type": "code",
      "metadata": {
        "colab": {
          "base_uri": "https://localhost:8080/",
          "height": 204
        },
        "id": "IRhDmHbh5uTb",
        "outputId": "54f3bb7e-90bf-4806-c46b-885900fec3de"
      },
      "source": [
        "data_test.tail()"
      ],
      "execution_count": 3,
      "outputs": [
        {
          "output_type": "execute_result",
          "data": {
            "text/html": [
              "<div>\n",
              "<style scoped>\n",
              "    .dataframe tbody tr th:only-of-type {\n",
              "        vertical-align: middle;\n",
              "    }\n",
              "\n",
              "    .dataframe tbody tr th {\n",
              "        vertical-align: top;\n",
              "    }\n",
              "\n",
              "    .dataframe thead th {\n",
              "        text-align: right;\n",
              "    }\n",
              "</style>\n",
              "<table border=\"1\" class=\"dataframe\">\n",
              "  <thead>\n",
              "    <tr style=\"text-align: right;\">\n",
              "      <th></th>\n",
              "      <th>UserName</th>\n",
              "      <th>ScreenName</th>\n",
              "      <th>Location</th>\n",
              "      <th>TweetAt</th>\n",
              "      <th>OriginalTweet</th>\n",
              "      <th>Sentiment</th>\n",
              "    </tr>\n",
              "  </thead>\n",
              "  <tbody>\n",
              "    <tr>\n",
              "      <th>3793</th>\n",
              "      <td>3794</td>\n",
              "      <td>48746</td>\n",
              "      <td>Israel ??</td>\n",
              "      <td>16-03-2020</td>\n",
              "      <td>Meanwhile In A Supermarket in Israel -- People...</td>\n",
              "      <td>Positive</td>\n",
              "    </tr>\n",
              "    <tr>\n",
              "      <th>3794</th>\n",
              "      <td>3795</td>\n",
              "      <td>48747</td>\n",
              "      <td>Farmington, NM</td>\n",
              "      <td>16-03-2020</td>\n",
              "      <td>Did you panic buy a lot of non-perishable item...</td>\n",
              "      <td>Negative</td>\n",
              "    </tr>\n",
              "    <tr>\n",
              "      <th>3795</th>\n",
              "      <td>3796</td>\n",
              "      <td>48748</td>\n",
              "      <td>Haverford, PA</td>\n",
              "      <td>16-03-2020</td>\n",
              "      <td>Asst Prof of Economics @cconces was on @NBCPhi...</td>\n",
              "      <td>Neutral</td>\n",
              "    </tr>\n",
              "    <tr>\n",
              "      <th>3796</th>\n",
              "      <td>3797</td>\n",
              "      <td>48749</td>\n",
              "      <td>NaN</td>\n",
              "      <td>16-03-2020</td>\n",
              "      <td>Gov need to do somethings instead of biar je r...</td>\n",
              "      <td>Extremely Negative</td>\n",
              "    </tr>\n",
              "    <tr>\n",
              "      <th>3797</th>\n",
              "      <td>3798</td>\n",
              "      <td>48750</td>\n",
              "      <td>Arlington, Virginia</td>\n",
              "      <td>16-03-2020</td>\n",
              "      <td>I and @ForestandPaper members are committed to...</td>\n",
              "      <td>Extremely Positive</td>\n",
              "    </tr>\n",
              "  </tbody>\n",
              "</table>\n",
              "</div>"
            ],
            "text/plain": [
              "      UserName  ...           Sentiment\n",
              "3793      3794  ...            Positive\n",
              "3794      3795  ...            Negative\n",
              "3795      3796  ...             Neutral\n",
              "3796      3797  ...  Extremely Negative\n",
              "3797      3798  ...  Extremely Positive\n",
              "\n",
              "[5 rows x 6 columns]"
            ]
          },
          "metadata": {},
          "execution_count": 3
        }
      ]
    },
    {
      "cell_type": "code",
      "metadata": {
        "colab": {
          "base_uri": "https://localhost:8080/",
          "height": 204
        },
        "id": "OI4fgppecwlH",
        "outputId": "df98c68a-14a6-47f4-ada3-309c09a85495"
      },
      "source": [
        "del data[\"UserName\"], data[\"ScreenName\"], data[\"Location\"], data[\"TweetAt\"]\n",
        "data.head()"
      ],
      "execution_count": 4,
      "outputs": [
        {
          "output_type": "execute_result",
          "data": {
            "text/html": [
              "<div>\n",
              "<style scoped>\n",
              "    .dataframe tbody tr th:only-of-type {\n",
              "        vertical-align: middle;\n",
              "    }\n",
              "\n",
              "    .dataframe tbody tr th {\n",
              "        vertical-align: top;\n",
              "    }\n",
              "\n",
              "    .dataframe thead th {\n",
              "        text-align: right;\n",
              "    }\n",
              "</style>\n",
              "<table border=\"1\" class=\"dataframe\">\n",
              "  <thead>\n",
              "    <tr style=\"text-align: right;\">\n",
              "      <th></th>\n",
              "      <th>OriginalTweet</th>\n",
              "      <th>Sentiment</th>\n",
              "    </tr>\n",
              "  </thead>\n",
              "  <tbody>\n",
              "    <tr>\n",
              "      <th>0</th>\n",
              "      <td>@MeNyrbie @Phil_Gahan @Chrisitv https://t.co/i...</td>\n",
              "      <td>Neutral</td>\n",
              "    </tr>\n",
              "    <tr>\n",
              "      <th>1</th>\n",
              "      <td>advice Talk to your neighbours family to excha...</td>\n",
              "      <td>Positive</td>\n",
              "    </tr>\n",
              "    <tr>\n",
              "      <th>2</th>\n",
              "      <td>Coronavirus Australia: Woolworths to give elde...</td>\n",
              "      <td>Positive</td>\n",
              "    </tr>\n",
              "    <tr>\n",
              "      <th>3</th>\n",
              "      <td>My food stock is not the only one which is emp...</td>\n",
              "      <td>Positive</td>\n",
              "    </tr>\n",
              "    <tr>\n",
              "      <th>4</th>\n",
              "      <td>Me, ready to go at supermarket during the #COV...</td>\n",
              "      <td>Extremely Negative</td>\n",
              "    </tr>\n",
              "  </tbody>\n",
              "</table>\n",
              "</div>"
            ],
            "text/plain": [
              "                                       OriginalTweet           Sentiment\n",
              "0  @MeNyrbie @Phil_Gahan @Chrisitv https://t.co/i...             Neutral\n",
              "1  advice Talk to your neighbours family to excha...            Positive\n",
              "2  Coronavirus Australia: Woolworths to give elde...            Positive\n",
              "3  My food stock is not the only one which is emp...            Positive\n",
              "4  Me, ready to go at supermarket during the #COV...  Extremely Negative"
            ]
          },
          "metadata": {},
          "execution_count": 4
        }
      ]
    },
    {
      "cell_type": "code",
      "metadata": {
        "colab": {
          "base_uri": "https://localhost:8080/",
          "height": 204
        },
        "id": "Wbr_YAIb5-ku",
        "outputId": "25c73d6c-75cc-41b4-bd87-efdefbf71911"
      },
      "source": [
        "del data_test[\"UserName\"], data_test[\"ScreenName\"], data_test[\"Location\"], data_test[\"TweetAt\"]\n",
        "data_test.head()"
      ],
      "execution_count": 5,
      "outputs": [
        {
          "output_type": "execute_result",
          "data": {
            "text/html": [
              "<div>\n",
              "<style scoped>\n",
              "    .dataframe tbody tr th:only-of-type {\n",
              "        vertical-align: middle;\n",
              "    }\n",
              "\n",
              "    .dataframe tbody tr th {\n",
              "        vertical-align: top;\n",
              "    }\n",
              "\n",
              "    .dataframe thead th {\n",
              "        text-align: right;\n",
              "    }\n",
              "</style>\n",
              "<table border=\"1\" class=\"dataframe\">\n",
              "  <thead>\n",
              "    <tr style=\"text-align: right;\">\n",
              "      <th></th>\n",
              "      <th>OriginalTweet</th>\n",
              "      <th>Sentiment</th>\n",
              "    </tr>\n",
              "  </thead>\n",
              "  <tbody>\n",
              "    <tr>\n",
              "      <th>0</th>\n",
              "      <td>TRENDING: New Yorkers encounter empty supermar...</td>\n",
              "      <td>Extremely Negative</td>\n",
              "    </tr>\n",
              "    <tr>\n",
              "      <th>1</th>\n",
              "      <td>When I couldn't find hand sanitizer at Fred Me...</td>\n",
              "      <td>Positive</td>\n",
              "    </tr>\n",
              "    <tr>\n",
              "      <th>2</th>\n",
              "      <td>Find out how you can protect yourself and love...</td>\n",
              "      <td>Extremely Positive</td>\n",
              "    </tr>\n",
              "    <tr>\n",
              "      <th>3</th>\n",
              "      <td>#Panic buying hits #NewYork City as anxious sh...</td>\n",
              "      <td>Negative</td>\n",
              "    </tr>\n",
              "    <tr>\n",
              "      <th>4</th>\n",
              "      <td>#toiletpaper #dunnypaper #coronavirus #coronav...</td>\n",
              "      <td>Neutral</td>\n",
              "    </tr>\n",
              "  </tbody>\n",
              "</table>\n",
              "</div>"
            ],
            "text/plain": [
              "                                       OriginalTweet           Sentiment\n",
              "0  TRENDING: New Yorkers encounter empty supermar...  Extremely Negative\n",
              "1  When I couldn't find hand sanitizer at Fred Me...            Positive\n",
              "2  Find out how you can protect yourself and love...  Extremely Positive\n",
              "3  #Panic buying hits #NewYork City as anxious sh...            Negative\n",
              "4  #toiletpaper #dunnypaper #coronavirus #coronav...             Neutral"
            ]
          },
          "metadata": {},
          "execution_count": 5
        }
      ]
    },
    {
      "cell_type": "code",
      "metadata": {
        "colab": {
          "base_uri": "https://localhost:8080/"
        },
        "id": "9xSixck2RDub",
        "outputId": "511b7c07-cf9c-443a-e5e3-5f4a459ce1a8"
      },
      "source": [
        "data[\"Sentiment\"].value_counts()"
      ],
      "execution_count": 6,
      "outputs": [
        {
          "output_type": "execute_result",
          "data": {
            "text/plain": [
              "Positive              11422\n",
              "Negative               9917\n",
              "Neutral                7713\n",
              "Extremely Positive     6624\n",
              "Extremely Negative     5481\n",
              "Name: Sentiment, dtype: int64"
            ]
          },
          "metadata": {},
          "execution_count": 6
        }
      ]
    },
    {
      "cell_type": "code",
      "metadata": {
        "colab": {
          "base_uri": "https://localhost:8080/"
        },
        "id": "CbuTv_ZQ6OS6",
        "outputId": "58c7cae5-8809-42c8-8907-e6baeeb91948"
      },
      "source": [
        "data_test[\"Sentiment\"].value_counts()"
      ],
      "execution_count": 7,
      "outputs": [
        {
          "output_type": "execute_result",
          "data": {
            "text/plain": [
              "Negative              1041\n",
              "Positive               947\n",
              "Neutral                619\n",
              "Extremely Positive     599\n",
              "Extremely Negative     592\n",
              "Name: Sentiment, dtype: int64"
            ]
          },
          "metadata": {},
          "execution_count": 7
        }
      ]
    },
    {
      "cell_type": "code",
      "metadata": {
        "colab": {
          "base_uri": "https://localhost:8080/",
          "height": 111
        },
        "id": "T8NpC74PRbFL",
        "outputId": "2e4c33a4-12b1-4b88-dcf2-aeaa30dd2a62"
      },
      "source": [
        "missing_data = pd.DataFrame({'total_missing': data.isnull().sum(), 'perc_missing': (data.isnull().sum()/41156)*100})\n",
        "missing_data"
      ],
      "execution_count": 8,
      "outputs": [
        {
          "output_type": "execute_result",
          "data": {
            "text/html": [
              "<div>\n",
              "<style scoped>\n",
              "    .dataframe tbody tr th:only-of-type {\n",
              "        vertical-align: middle;\n",
              "    }\n",
              "\n",
              "    .dataframe tbody tr th {\n",
              "        vertical-align: top;\n",
              "    }\n",
              "\n",
              "    .dataframe thead th {\n",
              "        text-align: right;\n",
              "    }\n",
              "</style>\n",
              "<table border=\"1\" class=\"dataframe\">\n",
              "  <thead>\n",
              "    <tr style=\"text-align: right;\">\n",
              "      <th></th>\n",
              "      <th>total_missing</th>\n",
              "      <th>perc_missing</th>\n",
              "    </tr>\n",
              "  </thead>\n",
              "  <tbody>\n",
              "    <tr>\n",
              "      <th>OriginalTweet</th>\n",
              "      <td>0</td>\n",
              "      <td>0.0</td>\n",
              "    </tr>\n",
              "    <tr>\n",
              "      <th>Sentiment</th>\n",
              "      <td>0</td>\n",
              "      <td>0.0</td>\n",
              "    </tr>\n",
              "  </tbody>\n",
              "</table>\n",
              "</div>"
            ],
            "text/plain": [
              "               total_missing  perc_missing\n",
              "OriginalTweet              0           0.0\n",
              "Sentiment                  0           0.0"
            ]
          },
          "metadata": {},
          "execution_count": 8
        }
      ]
    },
    {
      "cell_type": "code",
      "metadata": {
        "colab": {
          "base_uri": "https://localhost:8080/"
        },
        "id": "1WqTLpFr3_30",
        "outputId": "01eb7d9e-57f2-49a2-ab7b-fc9babcc0cf1"
      },
      "source": [
        "max_tweet = 0\n",
        "tweet_length = []\n",
        "for tweet in data[\"OriginalTweet\"]:\n",
        "  tweet_length.append(len(tweet))\n",
        "  if len(tweet) > max_tweet:\n",
        "    max_tweet = len(tweet)\n",
        "\n",
        "print(\"The longest tweet is: {}\".format(max_tweet))"
      ],
      "execution_count": 9,
      "outputs": [
        {
          "output_type": "stream",
          "name": "stdout",
          "text": [
            "The longest tweet is: 355\n"
          ]
        }
      ]
    },
    {
      "cell_type": "code",
      "metadata": {
        "id": "kPOMxyaQ5Bio"
      },
      "source": [
        "def to_3_classes(x):\n",
        "  if x==\"Extremely Negative\":\n",
        "    return \"Negative\"\n",
        "  elif x==\"Extremely Positive\":\n",
        "    return \"Positive\"\n",
        "  else:\n",
        "    return x\n",
        "\n",
        "data[\"Sentiment\"] = data[\"Sentiment\"].apply(to_3_classes)\n",
        "data_test[\"Sentiment\"] = data_test[\"Sentiment\"].apply(to_3_classes)"
      ],
      "execution_count": 10,
      "outputs": []
    },
    {
      "cell_type": "code",
      "metadata": {
        "colab": {
          "base_uri": "https://localhost:8080/"
        },
        "id": "IWx6nMqo6fm4",
        "outputId": "38484cf4-3987-4094-fc27-d9f76bbda11e"
      },
      "source": [
        "data[\"Sentiment\"].value_counts()"
      ],
      "execution_count": 11,
      "outputs": [
        {
          "output_type": "execute_result",
          "data": {
            "text/plain": [
              "Positive    18046\n",
              "Negative    15398\n",
              "Neutral      7713\n",
              "Name: Sentiment, dtype: int64"
            ]
          },
          "metadata": {},
          "execution_count": 11
        }
      ]
    },
    {
      "cell_type": "markdown",
      "metadata": {
        "id": "KcXwTZozqUc6"
      },
      "source": [
        "#Cleaning the Data\n"
      ]
    },
    {
      "cell_type": "code",
      "metadata": {
        "colab": {
          "base_uri": "https://localhost:8080/",
          "height": 204
        },
        "id": "-r1jWGquqYpq",
        "outputId": "82738f14-953c-4d16-a543-0b5b965734cd"
      },
      "source": [
        "data[\"Cleaned\"] = data[\"OriginalTweet\"]\n",
        "data.head()"
      ],
      "execution_count": 12,
      "outputs": [
        {
          "output_type": "execute_result",
          "data": {
            "text/html": [
              "<div>\n",
              "<style scoped>\n",
              "    .dataframe tbody tr th:only-of-type {\n",
              "        vertical-align: middle;\n",
              "    }\n",
              "\n",
              "    .dataframe tbody tr th {\n",
              "        vertical-align: top;\n",
              "    }\n",
              "\n",
              "    .dataframe thead th {\n",
              "        text-align: right;\n",
              "    }\n",
              "</style>\n",
              "<table border=\"1\" class=\"dataframe\">\n",
              "  <thead>\n",
              "    <tr style=\"text-align: right;\">\n",
              "      <th></th>\n",
              "      <th>OriginalTweet</th>\n",
              "      <th>Sentiment</th>\n",
              "      <th>Cleaned</th>\n",
              "    </tr>\n",
              "  </thead>\n",
              "  <tbody>\n",
              "    <tr>\n",
              "      <th>0</th>\n",
              "      <td>@MeNyrbie @Phil_Gahan @Chrisitv https://t.co/i...</td>\n",
              "      <td>Neutral</td>\n",
              "      <td>@MeNyrbie @Phil_Gahan @Chrisitv https://t.co/i...</td>\n",
              "    </tr>\n",
              "    <tr>\n",
              "      <th>1</th>\n",
              "      <td>advice Talk to your neighbours family to excha...</td>\n",
              "      <td>Positive</td>\n",
              "      <td>advice Talk to your neighbours family to excha...</td>\n",
              "    </tr>\n",
              "    <tr>\n",
              "      <th>2</th>\n",
              "      <td>Coronavirus Australia: Woolworths to give elde...</td>\n",
              "      <td>Positive</td>\n",
              "      <td>Coronavirus Australia: Woolworths to give elde...</td>\n",
              "    </tr>\n",
              "    <tr>\n",
              "      <th>3</th>\n",
              "      <td>My food stock is not the only one which is emp...</td>\n",
              "      <td>Positive</td>\n",
              "      <td>My food stock is not the only one which is emp...</td>\n",
              "    </tr>\n",
              "    <tr>\n",
              "      <th>4</th>\n",
              "      <td>Me, ready to go at supermarket during the #COV...</td>\n",
              "      <td>Negative</td>\n",
              "      <td>Me, ready to go at supermarket during the #COV...</td>\n",
              "    </tr>\n",
              "  </tbody>\n",
              "</table>\n",
              "</div>"
            ],
            "text/plain": [
              "                                       OriginalTweet  ...                                            Cleaned\n",
              "0  @MeNyrbie @Phil_Gahan @Chrisitv https://t.co/i...  ...  @MeNyrbie @Phil_Gahan @Chrisitv https://t.co/i...\n",
              "1  advice Talk to your neighbours family to excha...  ...  advice Talk to your neighbours family to excha...\n",
              "2  Coronavirus Australia: Woolworths to give elde...  ...  Coronavirus Australia: Woolworths to give elde...\n",
              "3  My food stock is not the only one which is emp...  ...  My food stock is not the only one which is emp...\n",
              "4  Me, ready to go at supermarket during the #COV...  ...  Me, ready to go at supermarket during the #COV...\n",
              "\n",
              "[5 rows x 3 columns]"
            ]
          },
          "metadata": {},
          "execution_count": 12
        }
      ]
    },
    {
      "cell_type": "code",
      "metadata": {
        "id": "6SWaCmA1qnq3"
      },
      "source": [
        "#clean mention\n",
        "import re\n",
        "def mention(df, label):\n",
        "  df[label] = df[label].apply(lambda x: re.sub(r\"@([a-zA-Z0-9_.-]{1,100})\", \" \", x))\n",
        "  return df\n",
        "  \n",
        "data = mention(data, \"Cleaned\")"
      ],
      "execution_count": 13,
      "outputs": []
    },
    {
      "cell_type": "code",
      "metadata": {
        "colab": {
          "base_uri": "https://localhost:8080/",
          "height": 204
        },
        "id": "lIf3XMjkrh_0",
        "outputId": "e21c5061-edc1-4b0b-9ca6-d6f7d1659290"
      },
      "source": [
        "data.head()"
      ],
      "execution_count": 14,
      "outputs": [
        {
          "output_type": "execute_result",
          "data": {
            "text/html": [
              "<div>\n",
              "<style scoped>\n",
              "    .dataframe tbody tr th:only-of-type {\n",
              "        vertical-align: middle;\n",
              "    }\n",
              "\n",
              "    .dataframe tbody tr th {\n",
              "        vertical-align: top;\n",
              "    }\n",
              "\n",
              "    .dataframe thead th {\n",
              "        text-align: right;\n",
              "    }\n",
              "</style>\n",
              "<table border=\"1\" class=\"dataframe\">\n",
              "  <thead>\n",
              "    <tr style=\"text-align: right;\">\n",
              "      <th></th>\n",
              "      <th>OriginalTweet</th>\n",
              "      <th>Sentiment</th>\n",
              "      <th>Cleaned</th>\n",
              "    </tr>\n",
              "  </thead>\n",
              "  <tbody>\n",
              "    <tr>\n",
              "      <th>0</th>\n",
              "      <td>@MeNyrbie @Phil_Gahan @Chrisitv https://t.co/i...</td>\n",
              "      <td>Neutral</td>\n",
              "      <td>https://t.co/iFz9FAn2Pa and https://t.co...</td>\n",
              "    </tr>\n",
              "    <tr>\n",
              "      <th>1</th>\n",
              "      <td>advice Talk to your neighbours family to excha...</td>\n",
              "      <td>Positive</td>\n",
              "      <td>advice Talk to your neighbours family to excha...</td>\n",
              "    </tr>\n",
              "    <tr>\n",
              "      <th>2</th>\n",
              "      <td>Coronavirus Australia: Woolworths to give elde...</td>\n",
              "      <td>Positive</td>\n",
              "      <td>Coronavirus Australia: Woolworths to give elde...</td>\n",
              "    </tr>\n",
              "    <tr>\n",
              "      <th>3</th>\n",
              "      <td>My food stock is not the only one which is emp...</td>\n",
              "      <td>Positive</td>\n",
              "      <td>My food stock is not the only one which is emp...</td>\n",
              "    </tr>\n",
              "    <tr>\n",
              "      <th>4</th>\n",
              "      <td>Me, ready to go at supermarket during the #COV...</td>\n",
              "      <td>Negative</td>\n",
              "      <td>Me, ready to go at supermarket during the #COV...</td>\n",
              "    </tr>\n",
              "  </tbody>\n",
              "</table>\n",
              "</div>"
            ],
            "text/plain": [
              "                                       OriginalTweet  ...                                            Cleaned\n",
              "0  @MeNyrbie @Phil_Gahan @Chrisitv https://t.co/i...  ...        https://t.co/iFz9FAn2Pa and https://t.co...\n",
              "1  advice Talk to your neighbours family to excha...  ...  advice Talk to your neighbours family to excha...\n",
              "2  Coronavirus Australia: Woolworths to give elde...  ...  Coronavirus Australia: Woolworths to give elde...\n",
              "3  My food stock is not the only one which is emp...  ...  My food stock is not the only one which is emp...\n",
              "4  Me, ready to go at supermarket during the #COV...  ...  Me, ready to go at supermarket during the #COV...\n",
              "\n",
              "[5 rows x 3 columns]"
            ]
          },
          "metadata": {},
          "execution_count": 14
        }
      ]
    },
    {
      "cell_type": "code",
      "metadata": {
        "id": "VYueaQISrm2_"
      },
      "source": [
        "#clean links\n",
        "def links(df, label):\n",
        "  df[label] = df[label].apply(lambda x: re.sub(r\"http\\S+\", \" \", x))\n",
        "  return df\n",
        "  \n",
        "data = links(data, \"Cleaned\")"
      ],
      "execution_count": 15,
      "outputs": []
    },
    {
      "cell_type": "code",
      "metadata": {
        "colab": {
          "base_uri": "https://localhost:8080/",
          "height": 204
        },
        "id": "BXGuqqAasBco",
        "outputId": "cc8dfe47-3e5b-453b-995a-5ec23182cc89"
      },
      "source": [
        "data.tail()"
      ],
      "execution_count": 16,
      "outputs": [
        {
          "output_type": "execute_result",
          "data": {
            "text/html": [
              "<div>\n",
              "<style scoped>\n",
              "    .dataframe tbody tr th:only-of-type {\n",
              "        vertical-align: middle;\n",
              "    }\n",
              "\n",
              "    .dataframe tbody tr th {\n",
              "        vertical-align: top;\n",
              "    }\n",
              "\n",
              "    .dataframe thead th {\n",
              "        text-align: right;\n",
              "    }\n",
              "</style>\n",
              "<table border=\"1\" class=\"dataframe\">\n",
              "  <thead>\n",
              "    <tr style=\"text-align: right;\">\n",
              "      <th></th>\n",
              "      <th>OriginalTweet</th>\n",
              "      <th>Sentiment</th>\n",
              "      <th>Cleaned</th>\n",
              "    </tr>\n",
              "  </thead>\n",
              "  <tbody>\n",
              "    <tr>\n",
              "      <th>41152</th>\n",
              "      <td>Airline pilots offering to stock supermarket s...</td>\n",
              "      <td>Neutral</td>\n",
              "      <td>Airline pilots offering to stock supermarket s...</td>\n",
              "    </tr>\n",
              "    <tr>\n",
              "      <th>41153</th>\n",
              "      <td>Response to complaint not provided citing COVI...</td>\n",
              "      <td>Negative</td>\n",
              "      <td>Response to complaint not provided citing COVI...</td>\n",
              "    </tr>\n",
              "    <tr>\n",
              "      <th>41154</th>\n",
              "      <td>You know itÂ’s getting tough when @KameronWild...</td>\n",
              "      <td>Positive</td>\n",
              "      <td>You know itÂ’s getting tough when    is ration...</td>\n",
              "    </tr>\n",
              "    <tr>\n",
              "      <th>41155</th>\n",
              "      <td>Is it wrong that the smell of hand sanitizer i...</td>\n",
              "      <td>Neutral</td>\n",
              "      <td>Is it wrong that the smell of hand sanitizer i...</td>\n",
              "    </tr>\n",
              "    <tr>\n",
              "      <th>41156</th>\n",
              "      <td>@TartiiCat Well new/used Rift S are going for ...</td>\n",
              "      <td>Negative</td>\n",
              "      <td>Well new/used Rift S are going for $700.00 o...</td>\n",
              "    </tr>\n",
              "  </tbody>\n",
              "</table>\n",
              "</div>"
            ],
            "text/plain": [
              "                                           OriginalTweet  ...                                            Cleaned\n",
              "41152  Airline pilots offering to stock supermarket s...  ...  Airline pilots offering to stock supermarket s...\n",
              "41153  Response to complaint not provided citing COVI...  ...  Response to complaint not provided citing COVI...\n",
              "41154  You know itÂ’s getting tough when @KameronWild...  ...  You know itÂ’s getting tough when    is ration...\n",
              "41155  Is it wrong that the smell of hand sanitizer i...  ...  Is it wrong that the smell of hand sanitizer i...\n",
              "41156  @TartiiCat Well new/used Rift S are going for ...  ...    Well new/used Rift S are going for $700.00 o...\n",
              "\n",
              "[5 rows x 3 columns]"
            ]
          },
          "metadata": {},
          "execution_count": 16
        }
      ]
    },
    {
      "cell_type": "code",
      "metadata": {
        "id": "1TUGNE2JsNEk"
      },
      "source": [
        "#clean numbers\n",
        "def numbers(df, label):\n",
        "  df[label] = df[label].apply(lambda x: re.sub(r\"\\d+\", \" \", x))\n",
        "  return df\n",
        "  \n",
        "data = numbers(data, \"Cleaned\")"
      ],
      "execution_count": 17,
      "outputs": []
    },
    {
      "cell_type": "code",
      "metadata": {
        "colab": {
          "base_uri": "https://localhost:8080/",
          "height": 204
        },
        "id": "Zjv42Sp5skAQ",
        "outputId": "c4b59132-c8df-4335-dbb8-1bb2fd40e373"
      },
      "source": [
        "data.tail()"
      ],
      "execution_count": 18,
      "outputs": [
        {
          "output_type": "execute_result",
          "data": {
            "text/html": [
              "<div>\n",
              "<style scoped>\n",
              "    .dataframe tbody tr th:only-of-type {\n",
              "        vertical-align: middle;\n",
              "    }\n",
              "\n",
              "    .dataframe tbody tr th {\n",
              "        vertical-align: top;\n",
              "    }\n",
              "\n",
              "    .dataframe thead th {\n",
              "        text-align: right;\n",
              "    }\n",
              "</style>\n",
              "<table border=\"1\" class=\"dataframe\">\n",
              "  <thead>\n",
              "    <tr style=\"text-align: right;\">\n",
              "      <th></th>\n",
              "      <th>OriginalTweet</th>\n",
              "      <th>Sentiment</th>\n",
              "      <th>Cleaned</th>\n",
              "    </tr>\n",
              "  </thead>\n",
              "  <tbody>\n",
              "    <tr>\n",
              "      <th>41152</th>\n",
              "      <td>Airline pilots offering to stock supermarket s...</td>\n",
              "      <td>Neutral</td>\n",
              "      <td>Airline pilots offering to stock supermarket s...</td>\n",
              "    </tr>\n",
              "    <tr>\n",
              "      <th>41153</th>\n",
              "      <td>Response to complaint not provided citing COVI...</td>\n",
              "      <td>Negative</td>\n",
              "      <td>Response to complaint not provided citing COVI...</td>\n",
              "    </tr>\n",
              "    <tr>\n",
              "      <th>41154</th>\n",
              "      <td>You know itÂ’s getting tough when @KameronWild...</td>\n",
              "      <td>Positive</td>\n",
              "      <td>You know itÂ’s getting tough when    is ration...</td>\n",
              "    </tr>\n",
              "    <tr>\n",
              "      <th>41155</th>\n",
              "      <td>Is it wrong that the smell of hand sanitizer i...</td>\n",
              "      <td>Neutral</td>\n",
              "      <td>Is it wrong that the smell of hand sanitizer i...</td>\n",
              "    </tr>\n",
              "    <tr>\n",
              "      <th>41156</th>\n",
              "      <td>@TartiiCat Well new/used Rift S are going for ...</td>\n",
              "      <td>Negative</td>\n",
              "      <td>Well new/used Rift S are going for $ .  on A...</td>\n",
              "    </tr>\n",
              "  </tbody>\n",
              "</table>\n",
              "</div>"
            ],
            "text/plain": [
              "                                           OriginalTweet  ...                                            Cleaned\n",
              "41152  Airline pilots offering to stock supermarket s...  ...  Airline pilots offering to stock supermarket s...\n",
              "41153  Response to complaint not provided citing COVI...  ...  Response to complaint not provided citing COVI...\n",
              "41154  You know itÂ’s getting tough when @KameronWild...  ...  You know itÂ’s getting tough when    is ration...\n",
              "41155  Is it wrong that the smell of hand sanitizer i...  ...  Is it wrong that the smell of hand sanitizer i...\n",
              "41156  @TartiiCat Well new/used Rift S are going for ...  ...    Well new/used Rift S are going for $ .  on A...\n",
              "\n",
              "[5 rows x 3 columns]"
            ]
          },
          "metadata": {},
          "execution_count": 18
        }
      ]
    },
    {
      "cell_type": "code",
      "metadata": {
        "id": "trJcQRnZsoGp"
      },
      "source": [
        "#apply to the test set too\n",
        "data_test[\"Cleaned\"] = data_test[\"OriginalTweet\"]\n",
        "data_test = mention(data_test, \"Cleaned\")\n",
        "data_test = links(data_test, \"Cleaned\")\n",
        "data_test = numbers(data_test, \"Cleaned\")"
      ],
      "execution_count": 19,
      "outputs": []
    },
    {
      "cell_type": "code",
      "metadata": {
        "colab": {
          "base_uri": "https://localhost:8080/",
          "height": 204
        },
        "id": "T0a74NAstaT9",
        "outputId": "79e8b9c4-50be-415b-c5bf-c57cbf895d2d"
      },
      "source": [
        "data_test.tail()"
      ],
      "execution_count": 20,
      "outputs": [
        {
          "output_type": "execute_result",
          "data": {
            "text/html": [
              "<div>\n",
              "<style scoped>\n",
              "    .dataframe tbody tr th:only-of-type {\n",
              "        vertical-align: middle;\n",
              "    }\n",
              "\n",
              "    .dataframe tbody tr th {\n",
              "        vertical-align: top;\n",
              "    }\n",
              "\n",
              "    .dataframe thead th {\n",
              "        text-align: right;\n",
              "    }\n",
              "</style>\n",
              "<table border=\"1\" class=\"dataframe\">\n",
              "  <thead>\n",
              "    <tr style=\"text-align: right;\">\n",
              "      <th></th>\n",
              "      <th>OriginalTweet</th>\n",
              "      <th>Sentiment</th>\n",
              "      <th>Cleaned</th>\n",
              "    </tr>\n",
              "  </thead>\n",
              "  <tbody>\n",
              "    <tr>\n",
              "      <th>3793</th>\n",
              "      <td>Meanwhile In A Supermarket in Israel -- People...</td>\n",
              "      <td>Positive</td>\n",
              "      <td>Meanwhile In A Supermarket in Israel -- People...</td>\n",
              "    </tr>\n",
              "    <tr>\n",
              "      <th>3794</th>\n",
              "      <td>Did you panic buy a lot of non-perishable item...</td>\n",
              "      <td>Negative</td>\n",
              "      <td>Did you panic buy a lot of non-perishable item...</td>\n",
              "    </tr>\n",
              "    <tr>\n",
              "      <th>3795</th>\n",
              "      <td>Asst Prof of Economics @cconces was on @NBCPhi...</td>\n",
              "      <td>Neutral</td>\n",
              "      <td>Asst Prof of Economics   was on   talking abou...</td>\n",
              "    </tr>\n",
              "    <tr>\n",
              "      <th>3796</th>\n",
              "      <td>Gov need to do somethings instead of biar je r...</td>\n",
              "      <td>Negative</td>\n",
              "      <td>Gov need to do somethings instead of biar je r...</td>\n",
              "    </tr>\n",
              "    <tr>\n",
              "      <th>3797</th>\n",
              "      <td>I and @ForestandPaper members are committed to...</td>\n",
              "      <td>Positive</td>\n",
              "      <td>I and   members are committed to the safety of...</td>\n",
              "    </tr>\n",
              "  </tbody>\n",
              "</table>\n",
              "</div>"
            ],
            "text/plain": [
              "                                          OriginalTweet  ...                                            Cleaned\n",
              "3793  Meanwhile In A Supermarket in Israel -- People...  ...  Meanwhile In A Supermarket in Israel -- People...\n",
              "3794  Did you panic buy a lot of non-perishable item...  ...  Did you panic buy a lot of non-perishable item...\n",
              "3795  Asst Prof of Economics @cconces was on @NBCPhi...  ...  Asst Prof of Economics   was on   talking abou...\n",
              "3796  Gov need to do somethings instead of biar je r...  ...  Gov need to do somethings instead of biar je r...\n",
              "3797  I and @ForestandPaper members are committed to...  ...  I and   members are committed to the safety of...\n",
              "\n",
              "[5 rows x 3 columns]"
            ]
          },
          "metadata": {},
          "execution_count": 20
        }
      ]
    },
    {
      "cell_type": "code",
      "metadata": {
        "colab": {
          "base_uri": "https://localhost:8080/"
        },
        "id": "GgISC4ultkDc",
        "outputId": "786a4a76-3ecf-4744-deba-bb4409a27345"
      },
      "source": [
        "data_encoded = data.copy()\n",
        "data_test_encoded = data_test.copy()\n",
        "\n",
        "print(\"train set shape: {}\".format(data_encoded.shape))\n",
        "print(\"test set shape: {}\".format(data_test_encoded.shape))"
      ],
      "execution_count": 21,
      "outputs": [
        {
          "output_type": "stream",
          "name": "stdout",
          "text": [
            "train set shape: (41157, 3)\n",
            "test set shape: (3798, 3)\n"
          ]
        }
      ]
    },
    {
      "cell_type": "code",
      "metadata": {
        "id": "kWOBEcdnulPM"
      },
      "source": [
        "map_sentiment = {\"Neutral\":0, \"Positive\":1,\"Negative\":2}\n",
        "data_encoded['Sentiment'] = data_encoded['Sentiment'].map(map_sentiment)\n",
        "data_test_encoded['Sentiment']  = data_test_encoded['Sentiment'].map(map_sentiment)"
      ],
      "execution_count": 22,
      "outputs": []
    },
    {
      "cell_type": "code",
      "metadata": {
        "id": "a4SYyAQEuzGb"
      },
      "source": [
        "from tensorflow.keras.utils import to_categorical\n",
        "y_train = data['Sentiment'].copy()\n",
        "y_test = data_test['Sentiment'].copy()\n",
        "\n",
        "y_train_encoded = to_categorical(data_encoded['Sentiment'], 3)\n",
        "y_test_encoded = to_categorical(data_test_encoded['Sentiment'], 3)\n",
        "\n",
        "y_train_mapped = data_encoded['Sentiment'].copy()\n",
        "y_test_mapped = data_test_encoded['Sentiment'].copy()\n",
        "\n",
        "X_train = data_encoded[['Cleaned']].copy()\n",
        "X_test = data_test_encoded[['Cleaned']].copy()"
      ],
      "execution_count": 23,
      "outputs": []
    },
    {
      "cell_type": "code",
      "metadata": {
        "id": "1aty0vacVvmt",
        "colab": {
          "base_uri": "https://localhost:8080/"
        },
        "outputId": "09c28cad-a404-4fc6-9ad5-846ca371d359"
      },
      "source": [
        "from tensorflow.keras.preprocessing.text import Tokenizer\n",
        "from tensorflow.keras.preprocessing.sequence import pad_sequences\n",
        "tokenizer = Tokenizer(oov_token=\"<OOV>\")\n",
        "tokenizer.fit_on_texts(X_train[\"Cleaned\"])\n",
        "vocab_length = len(tokenizer.word_index) + 1\n",
        "vocab_length"
      ],
      "execution_count": 24,
      "outputs": [
        {
          "output_type": "execute_result",
          "data": {
            "text/plain": [
              "49251"
            ]
          },
          "metadata": {},
          "execution_count": 24
        }
      ]
    },
    {
      "cell_type": "code",
      "metadata": {
        "id": "UPFJXaL6wTXD"
      },
      "source": [
        "list_tokenized_train = tokenizer.texts_to_sequences(X_train[\"Cleaned\"])\n",
        "list_tokenized_test = tokenizer.texts_to_sequences(X_test[\"Cleaned\"])"
      ],
      "execution_count": 25,
      "outputs": []
    },
    {
      "cell_type": "code",
      "metadata": {
        "colab": {
          "base_uri": "https://localhost:8080/"
        },
        "id": "ALFpHjnFw4B1",
        "outputId": "e5bd7218-0681-4414-ecf5-fa364983f2b0"
      },
      "source": [
        "for i in range(5):\n",
        "  print(\"Tweet ke-{}\".format(i))\n",
        "  print(list_tokenized_train[i])\n",
        "  i+=1"
      ],
      "execution_count": 26,
      "outputs": [
        {
          "output_type": "stream",
          "name": "stdout",
          "text": [
            "Tweet ke-0\n",
            "[5, 5]\n",
            "Tweet ke-1\n",
            "[520, 907, 3, 35, 2613, 270, 3, 2725, 867, 1266, 1110, 442, 398, 23, 867, 1266, 7, 2613, 1213, 3785, 3431, 4894, 497, 42, 52, 49, 2410, 51, 21825, 3279, 191, 7, 1079, 3074, 50, 37, 109, 242]\n",
            "Tweet ke-2\n",
            "[10, 649, 3199, 3, 318, 320, 1357, 1879, 49, 268, 158, 6, 132]\n",
            "Tweet ke-3\n",
            "[39, 20, 84, 12, 37, 2, 102, 86, 175, 12, 225, 4, 4, 93, 168, 66, 83, 38, 29, 252, 20, 11, 149, 51, 15, 69, 37, 130, 48, 106, 15, 62, 4, 110, 1010, 110, 165, 4, 4, 6, 1951, 6, 6, 10, 4564, 21826, 21827]\n",
            "Tweet ke-4\n",
            "[87, 761, 3, 79, 18, 21, 56, 2, 6, 132, 4, 4, 37, 103, 229, 4252, 50, 103, 39, 20, 84, 12, 21828, 225, 2, 10, 12, 8, 862, 314, 50, 93, 168, 66, 30, 1756, 437, 4, 4, 21829, 10873, 405, 4564]\n"
          ]
        }
      ]
    },
    {
      "cell_type": "code",
      "metadata": {
        "colab": {
          "base_uri": "https://localhost:8080/"
        },
        "id": "O0ZNcjtsxfWW",
        "outputId": "8d4d5b33-e051-4a6c-d1c8-6cc1ee83b86e"
      },
      "source": [
        "max_word = 0\n",
        "word_count = []\n",
        "\n",
        "for encoded_tweet in list_tokenized_train:\n",
        "    word_count.append(len(encoded_tweet))\n",
        "    if len(encoded_tweet) > max_word:\n",
        "        max_word = len(encoded_tweet)\n",
        "print(\"Maximum word in one tweet: {}\".format(max_word))"
      ],
      "execution_count": 27,
      "outputs": [
        {
          "output_type": "stream",
          "name": "stdout",
          "text": [
            "Maximum word in one tweet: 64\n"
          ]
        }
      ]
    },
    {
      "cell_type": "code",
      "metadata": {
        "colab": {
          "base_uri": "https://localhost:8080/"
        },
        "id": "62bl13rjyHru",
        "outputId": "57276e86-04bd-416e-dc83-04f08e359461"
      },
      "source": [
        "#karena max kata di tweet adalah 64, maka kita bisa sama ratakan panjangnya input tweet menjadi 64 dengan padding\n",
        "padded_data_train = pad_sequences(list_tokenized_train, maxlen=max_word, padding='post')\n",
        "padded_data_test = pad_sequences(list_tokenized_test, maxlen=max_word, padding='post')\n",
        "padded_data_train.shape"
      ],
      "execution_count": 28,
      "outputs": [
        {
          "output_type": "execute_result",
          "data": {
            "text/plain": [
              "(41157, 64)"
            ]
          },
          "metadata": {},
          "execution_count": 28
        }
      ]
    },
    {
      "cell_type": "code",
      "metadata": {
        "colab": {
          "base_uri": "https://localhost:8080/"
        },
        "id": "vA_pe4IfyqPT",
        "outputId": "7417f478-958e-4980-e5fe-36bb6c97770c"
      },
      "source": [
        "for i in range(5):\n",
        "  print(\"Tweet ke-{}\".format(i))\n",
        "  print(padded_data_train[i])\n",
        "  i+=1"
      ],
      "execution_count": 29,
      "outputs": [
        {
          "output_type": "stream",
          "name": "stdout",
          "text": [
            "Tweet ke-0\n",
            "[5 5 0 0 0 0 0 0 0 0 0 0 0 0 0 0 0 0 0 0 0 0 0 0 0 0 0 0 0 0 0 0 0 0 0 0 0\n",
            " 0 0 0 0 0 0 0 0 0 0 0 0 0 0 0 0 0 0 0 0 0 0 0 0 0 0 0]\n",
            "Tweet ke-1\n",
            "[  520   907     3    35  2613   270     3  2725   867  1266  1110   442\n",
            "   398    23   867  1266     7  2613  1213  3785  3431  4894   497    42\n",
            "    52    49  2410    51 21825  3279   191     7  1079  3074    50    37\n",
            "   109   242     0     0     0     0     0     0     0     0     0     0\n",
            "     0     0     0     0     0     0     0     0     0     0     0     0\n",
            "     0     0     0     0]\n",
            "Tweet ke-2\n",
            "[  10  649 3199    3  318  320 1357 1879   49  268  158    6  132    0\n",
            "    0    0    0    0    0    0    0    0    0    0    0    0    0    0\n",
            "    0    0    0    0    0    0    0    0    0    0    0    0    0    0\n",
            "    0    0    0    0    0    0    0    0    0    0    0    0    0    0\n",
            "    0    0    0    0    0    0    0    0]\n",
            "Tweet ke-3\n",
            "[   39    20    84    12    37     2   102    86   175    12   225     4\n",
            "     4    93   168    66    83    38    29   252    20    11   149    51\n",
            "    15    69    37   130    48   106    15    62     4   110  1010   110\n",
            "   165     4     4     6  1951     6     6    10  4564 21826 21827     0\n",
            "     0     0     0     0     0     0     0     0     0     0     0     0\n",
            "     0     0     0     0]\n",
            "Tweet ke-4\n",
            "[   87   761     3    79    18    21    56     2     6   132     4     4\n",
            "    37   103   229  4252    50   103    39    20    84    12 21828   225\n",
            "     2    10    12     8   862   314    50    93   168    66    30  1756\n",
            "   437     4     4 21829 10873   405  4564     0     0     0     0     0\n",
            "     0     0     0     0     0     0     0     0     0     0     0     0\n",
            "     0     0     0     0]\n"
          ]
        }
      ]
    },
    {
      "cell_type": "markdown",
      "metadata": {
        "id": "JOI7S5-qzC5E"
      },
      "source": [
        "#Tahap Modelling"
      ]
    },
    {
      "cell_type": "code",
      "metadata": {
        "colab": {
          "base_uri": "https://localhost:8080/"
        },
        "id": "qHeFhXXFmFsQ",
        "outputId": "e81012e7-ec1d-4a17-a743-ebfcaf255b46"
      },
      "source": [
        "from tensorflow.keras.layers import Dense, Input, LSTM, Embedding, Dropout, Bidirectional\n",
        "from tensorflow.keras.layers import GlobalMaxPool1D\n",
        "from tensorflow.keras.optimizers import Adam\n",
        "from tensorflow.keras.models import Sequential\n",
        "model = Sequential()\n",
        "model.add(Embedding(vocab_length, output_dim = 32, input_length = max_word))\n",
        "model.add(Bidirectional(LSTM(100)))\n",
        "model.add(Dense(64, activation='relu'))\n",
        "model.add(Dropout(0.2))\n",
        "model.add(Dense(3, activation='softmax'))\n",
        "adam = Adam(learning_rate=0.01)\n",
        "\n",
        "model.summary()"
      ],
      "execution_count": 30,
      "outputs": [
        {
          "output_type": "stream",
          "name": "stdout",
          "text": [
            "Model: \"sequential\"\n",
            "_________________________________________________________________\n",
            "Layer (type)                 Output Shape              Param #   \n",
            "=================================================================\n",
            "embedding (Embedding)        (None, 64, 32)            1576032   \n",
            "_________________________________________________________________\n",
            "bidirectional (Bidirectional (None, 200)               106400    \n",
            "_________________________________________________________________\n",
            "dense (Dense)                (None, 64)                12864     \n",
            "_________________________________________________________________\n",
            "dropout (Dropout)            (None, 64)                0         \n",
            "_________________________________________________________________\n",
            "dense_1 (Dense)              (None, 3)                 195       \n",
            "=================================================================\n",
            "Total params: 1,695,491\n",
            "Trainable params: 1,695,491\n",
            "Non-trainable params: 0\n",
            "_________________________________________________________________\n"
          ]
        }
      ]
    },
    {
      "cell_type": "code",
      "metadata": {
        "id": "V0GNvaSJmgaG"
      },
      "source": [
        "model.compile(loss='categorical_crossentropy',\n",
        "              optimizer=adam,\n",
        "              metrics=['accuracy'])"
      ],
      "execution_count": 31,
      "outputs": []
    },
    {
      "cell_type": "code",
      "metadata": {
        "colab": {
          "base_uri": "https://localhost:8080/"
        },
        "id": "BZd5pDi1nDRU",
        "outputId": "719c7483-39f3-4b9c-eb8b-69e9a8ea4e98"
      },
      "source": [
        "from tensorflow.keras.callbacks import EarlyStopping\n",
        "es = EarlyStopping(patience=5, monitor='val_accuracy', restore_best_weights=True)\n",
        "history = model.fit(padded_data_train, y_train_encoded, epochs=20, \n",
        "          validation_data=(padded_data_test, y_test_encoded), callbacks=[es])"
      ],
      "execution_count": 32,
      "outputs": [
        {
          "output_type": "stream",
          "name": "stdout",
          "text": [
            "Epoch 1/20\n",
            "1287/1287 [==============================] - 138s 104ms/step - loss: 0.6080 - accuracy: 0.7601 - val_loss: 0.4584 - val_accuracy: 0.8465\n",
            "Epoch 2/20\n",
            "1287/1287 [==============================] - 133s 103ms/step - loss: 0.2921 - accuracy: 0.9064 - val_loss: 0.4423 - val_accuracy: 0.8594\n",
            "Epoch 3/20\n",
            "1287/1287 [==============================] - 129s 100ms/step - loss: 0.1874 - accuracy: 0.9431 - val_loss: 0.5497 - val_accuracy: 0.8360\n",
            "Epoch 4/20\n",
            "1287/1287 [==============================] - 129s 100ms/step - loss: 0.1406 - accuracy: 0.9559 - val_loss: 0.7103 - val_accuracy: 0.8410\n",
            "Epoch 5/20\n",
            "1287/1287 [==============================] - 129s 100ms/step - loss: 0.1155 - accuracy: 0.9628 - val_loss: 0.6228 - val_accuracy: 0.8544\n",
            "Epoch 6/20\n",
            "1287/1287 [==============================] - 129s 100ms/step - loss: 0.1033 - accuracy: 0.9668 - val_loss: 0.6542 - val_accuracy: 0.8552\n",
            "Epoch 7/20\n",
            "1287/1287 [==============================] - 129s 100ms/step - loss: 0.0898 - accuracy: 0.9702 - val_loss: 0.6630 - val_accuracy: 0.8507\n"
          ]
        }
      ]
    },
    {
      "cell_type": "code",
      "metadata": {
        "id": "QPana3qjpvfC",
        "colab": {
          "base_uri": "https://localhost:8080/"
        },
        "outputId": "24abd3a3-3569-45b3-9694-700f86b4103e"
      },
      "source": [
        "model.evaluate(padded_data_test,y_test_encoded)"
      ],
      "execution_count": 33,
      "outputs": [
        {
          "output_type": "stream",
          "name": "stdout",
          "text": [
            "119/119 [==============================] - 2s 20ms/step - loss: 0.4423 - accuracy: 0.8594\n"
          ]
        },
        {
          "output_type": "execute_result",
          "data": {
            "text/plain": [
              "[0.4423185884952545, 0.859399676322937]"
            ]
          },
          "metadata": {},
          "execution_count": 33
        }
      ]
    },
    {
      "cell_type": "code",
      "metadata": {
        "id": "rhFCxGMX36k6"
      },
      "source": [
        "predicted = model.predict(padded_data_test)\n",
        "y_pred = predicted.argmax(axis=-1)"
      ],
      "execution_count": 34,
      "outputs": []
    },
    {
      "cell_type": "code",
      "metadata": {
        "colab": {
          "base_uri": "https://localhost:8080/",
          "height": 527
        },
        "id": "o4H0zxys4EJi",
        "outputId": "d5c63cfa-c3fd-465a-a08c-81f31b81bf8a"
      },
      "source": [
        "from sklearn.metrics import confusion_matrix\n",
        "cm = confusion_matrix(y_test_mapped, y_pred)\n",
        "fig, ax = plt.subplots()\n",
        "fig.set_size_inches(12, 8)\n",
        "sns.heatmap(cm, annot=True, fmt='d', ax=ax, cmap=plt.cm.Blues, cbar=False)\n",
        "ax.set(xticklabels=list(y_test.unique()), yticklabels=list(y_test.unique()), title=\"Confusion matrix\")\n",
        "ax.tick_params(axis='x', labelsize=16)\n",
        "ax.tick_params(axis='y', labelsize=16)\n",
        "ax.set_ylabel(\"True\", color=\"royalblue\", fontsize=20, fontweight=700)\n",
        "ax.set_xlabel(\"Prediction\", color=\"royalblue\", fontsize=20, fontweight=700)\n",
        "plt.yticks(rotation=0);"
      ],
      "execution_count": 35,
      "outputs": [
        {
          "output_type": "display_data",
          "data": {
            "image/png": "[encoded data removed]",
            "text/plain": [
              "<Figure size 864x576 with 1 Axes>"
            ]
          },
          "metadata": {
            "needs_background": "light"
          }
        }
      ]
    },
    {
      "cell_type": "code",
      "metadata": {
        "colab": {
          "base_uri": "https://localhost:8080/",
          "height": 562
        },
        "id": "cP8U97yE5FtX",
        "outputId": "5bf95826-eca4-426d-fcd9-c7830c60c13b"
      },
      "source": [
        "acc = history.history['accuracy']\n",
        "val_acc = history.history['val_accuracy']\n",
        "loss = history.history['loss']\n",
        "val_loss = history.history['val_loss']\n",
        "\n",
        "epochs = range(len(acc))\n",
        "\n",
        "plt.plot(epochs, acc, 'r', label='Training accuracy')\n",
        "plt.plot(epochs, val_acc, 'b', label='Validation accuracy')\n",
        "plt.title('Training and validation accuracy')\n",
        "plt.legend(loc=0)\n",
        "plt.figure()\n",
        "\n",
        "plt.plot(epochs, loss, 'r', label='Training loss')\n",
        "plt.plot(epochs, val_loss, 'b', label='Validation loss')\n",
        "plt.title('Training and validation loss')\n",
        "plt.legend(loc=0)\n",
        "plt.figure()\n",
        "\n",
        "plt.show()"
      ],
      "execution_count": 36,
      "outputs": [
        {
          "output_type": "display_data",
          "data": {
            "image/png": "[encoded data removed]",
            "text/plain": [
              "<Figure size 432x288 with 1 Axes>"
            ]
          },
          "metadata": {
            "needs_background": "light"
          }
        },
        {
          "output_type": "display_data",
          "data": {
            "image/png": "[encoded data removed]",
            "text/plain": [
              "<Figure size 432x288 with 1 Axes>"
            ]
          },
          "metadata": {
            "needs_background": "light"
          }
        },
        {
          "output_type": "display_data",
          "data": {
            "text/plain": [
              "<Figure size 432x288 with 0 Axes>"
            ]
          },
          "metadata": {}
        }
      ]
    },
    {
      "cell_type": "code",
      "metadata": {
        "id": "tfxV1EJZwLCZ"
      },
      "source": [
        "model.save('corona_nlp_ver3.h5')"
      ],
      "execution_count": 37,
      "outputs": []
    }
  ]
}